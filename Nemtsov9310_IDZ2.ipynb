{
 "cells": [
  {
   "cell_type": "markdown",
   "id": "d981b021",
   "metadata": {},
   "source": [
    "![title](2.jpg)"
   ]
  },
  {
   "cell_type": "markdown",
   "id": "4a954013",
   "metadata": {},
   "source": [
    "![title](3.jpg)"
   ]
  },
  {
   "cell_type": "markdown",
   "id": "e4bab806",
   "metadata": {},
   "source": [
    "![title](4.jpg)"
   ]
  },
  {
   "cell_type": "markdown",
   "id": "0807bb39",
   "metadata": {},
   "source": [
    "![title](5.jpg)"
   ]
  },
  {
   "cell_type": "code",
   "execution_count": 1,
   "id": "a8b348ad",
   "metadata": {
    "scrolled": true
   },
   "outputs": [
    {
     "name": "stdout",
     "output_type": "stream",
     "text": [
      "OK - формула верна, Error - формула не верна\n",
      "Введите свою формулу: \n",
      "a+\n",
      "Error\n",
      "\n",
      "\n",
      "OK - формула верна, Error - формула не верна\n",
      "Введите свою формулу: \n",
      "f(a-b)\n",
      "Result: \n",
      "f(a-b)\n",
      "OK\n",
      "\n",
      "\n",
      "OK - формула верна, Error - формула не верна\n",
      "Введите свою формулу: \n"
     ]
    },
    {
     "ename": "KeyboardInterrupt",
     "evalue": "Interrupted by user",
     "output_type": "error",
     "traceback": [
      "\u001b[1;31m---------------------------------------------------------------------------\u001b[0m",
      "\u001b[1;31mKeyboardInterrupt\u001b[0m                         Traceback (most recent call last)",
      "\u001b[1;32m<ipython-input-1-245d355a2972>\u001b[0m in \u001b[0;36m<module>\u001b[1;34m\u001b[0m\n\u001b[0;32m     94\u001b[0m \u001b[1;33m\u001b[0m\u001b[0m\n\u001b[0;32m     95\u001b[0m \u001b[0ma\u001b[0m \u001b[1;33m=\u001b[0m \u001b[0mformula\u001b[0m\u001b[1;33m(\u001b[0m\u001b[1;33m)\u001b[0m\u001b[1;33m\u001b[0m\u001b[1;33m\u001b[0m\u001b[0m\n\u001b[1;32m---> 96\u001b[1;33m \u001b[0ma\u001b[0m\u001b[1;33m.\u001b[0m\u001b[0mlaunch\u001b[0m\u001b[1;33m(\u001b[0m\u001b[1;33m)\u001b[0m\u001b[1;33m\u001b[0m\u001b[1;33m\u001b[0m\u001b[0m\n\u001b[0m",
      "\u001b[1;32m<ipython-input-1-245d355a2972>\u001b[0m in \u001b[0;36mlaunch\u001b[1;34m(obj)\u001b[0m\n\u001b[0;32m     12\u001b[0m         \u001b[1;32mwhile\u001b[0m\u001b[1;33m(\u001b[0m\u001b[0mobj\u001b[0m\u001b[1;33m.\u001b[0m\u001b[0mmode\u001b[0m \u001b[1;33m==\u001b[0m \u001b[1;36m1\u001b[0m\u001b[1;33m)\u001b[0m\u001b[1;33m:\u001b[0m\u001b[1;33m\u001b[0m\u001b[1;33m\u001b[0m\u001b[0m\n\u001b[0;32m     13\u001b[0m             \u001b[0mobj\u001b[0m\u001b[1;33m.\u001b[0m\u001b[0moutInfo\u001b[0m\u001b[1;33m(\u001b[0m\u001b[1;33m)\u001b[0m\u001b[1;33m\u001b[0m\u001b[1;33m\u001b[0m\u001b[0m\n\u001b[1;32m---> 14\u001b[1;33m             \u001b[0mobj\u001b[0m\u001b[1;33m.\u001b[0m\u001b[0ms\u001b[0m \u001b[1;33m=\u001b[0m \u001b[0minput\u001b[0m\u001b[1;33m(\u001b[0m\u001b[1;33m)\u001b[0m\u001b[1;33m\u001b[0m\u001b[1;33m\u001b[0m\u001b[0m\n\u001b[0m\u001b[0;32m     15\u001b[0m             \u001b[0mobj\u001b[0m\u001b[1;33m.\u001b[0m\u001b[0mn\u001b[0m \u001b[1;33m=\u001b[0m \u001b[0mlen\u001b[0m\u001b[1;33m(\u001b[0m\u001b[0mobj\u001b[0m\u001b[1;33m.\u001b[0m\u001b[0ms\u001b[0m\u001b[1;33m)\u001b[0m\u001b[1;33m\u001b[0m\u001b[1;33m\u001b[0m\u001b[0m\n\u001b[0;32m     16\u001b[0m             \u001b[0mobj\u001b[0m\u001b[1;33m.\u001b[0m\u001b[0mreadNS\u001b[0m\u001b[1;33m(\u001b[0m\u001b[1;33m)\u001b[0m\u001b[1;33m\u001b[0m\u001b[1;33m\u001b[0m\u001b[0m\n",
      "\u001b[1;32mD:\\Anaconda\\lib\\site-packages\\ipykernel\\kernelbase.py\u001b[0m in \u001b[0;36mraw_input\u001b[1;34m(self, prompt)\u001b[0m\n\u001b[0;32m    858\u001b[0m                 \u001b[1;34m\"raw_input was called, but this frontend does not support input requests.\"\u001b[0m\u001b[1;33m\u001b[0m\u001b[1;33m\u001b[0m\u001b[0m\n\u001b[0;32m    859\u001b[0m             )\n\u001b[1;32m--> 860\u001b[1;33m         return self._input_request(str(prompt),\n\u001b[0m\u001b[0;32m    861\u001b[0m             \u001b[0mself\u001b[0m\u001b[1;33m.\u001b[0m\u001b[0m_parent_ident\u001b[0m\u001b[1;33m,\u001b[0m\u001b[1;33m\u001b[0m\u001b[1;33m\u001b[0m\u001b[0m\n\u001b[0;32m    862\u001b[0m             \u001b[0mself\u001b[0m\u001b[1;33m.\u001b[0m\u001b[0m_parent_header\u001b[0m\u001b[1;33m,\u001b[0m\u001b[1;33m\u001b[0m\u001b[1;33m\u001b[0m\u001b[0m\n",
      "\u001b[1;32mD:\\Anaconda\\lib\\site-packages\\ipykernel\\kernelbase.py\u001b[0m in \u001b[0;36m_input_request\u001b[1;34m(self, prompt, ident, parent, password)\u001b[0m\n\u001b[0;32m    902\u001b[0m             \u001b[1;32mexcept\u001b[0m \u001b[0mKeyboardInterrupt\u001b[0m\u001b[1;33m:\u001b[0m\u001b[1;33m\u001b[0m\u001b[1;33m\u001b[0m\u001b[0m\n\u001b[0;32m    903\u001b[0m                 \u001b[1;31m# re-raise KeyboardInterrupt, to truncate traceback\u001b[0m\u001b[1;33m\u001b[0m\u001b[1;33m\u001b[0m\u001b[1;33m\u001b[0m\u001b[0m\n\u001b[1;32m--> 904\u001b[1;33m                 \u001b[1;32mraise\u001b[0m \u001b[0mKeyboardInterrupt\u001b[0m\u001b[1;33m(\u001b[0m\u001b[1;34m\"Interrupted by user\"\u001b[0m\u001b[1;33m)\u001b[0m \u001b[1;32mfrom\u001b[0m \u001b[1;32mNone\u001b[0m\u001b[1;33m\u001b[0m\u001b[1;33m\u001b[0m\u001b[0m\n\u001b[0m\u001b[0;32m    905\u001b[0m             \u001b[1;32mexcept\u001b[0m \u001b[0mException\u001b[0m \u001b[1;32mas\u001b[0m \u001b[0me\u001b[0m\u001b[1;33m:\u001b[0m\u001b[1;33m\u001b[0m\u001b[1;33m\u001b[0m\u001b[0m\n\u001b[0;32m    906\u001b[0m                 \u001b[0mself\u001b[0m\u001b[1;33m.\u001b[0m\u001b[0mlog\u001b[0m\u001b[1;33m.\u001b[0m\u001b[0mwarning\u001b[0m\u001b[1;33m(\u001b[0m\u001b[1;34m\"Invalid Message:\"\u001b[0m\u001b[1;33m,\u001b[0m \u001b[0mexc_info\u001b[0m\u001b[1;33m=\u001b[0m\u001b[1;32mTrue\u001b[0m\u001b[1;33m)\u001b[0m\u001b[1;33m\u001b[0m\u001b[1;33m\u001b[0m\u001b[0m\n",
      "\u001b[1;31mKeyboardInterrupt\u001b[0m: Interrupted by user"
     ]
    }
   ],
   "source": [
    "class formula:\n",
    "    flag = True\n",
    "    k = 0\n",
    "    ch = ''\n",
    "    s=\"\"\n",
    "    result = \"\"\n",
    "    res = \"OK\"\n",
    "    n = 0\n",
    "    mode = 1\n",
    "    \n",
    "    def launch(obj):\n",
    "        while(obj.mode == 1):\n",
    "            obj.outInfo()\n",
    "            obj.s = input()\n",
    "            obj.n = len(obj.s)\n",
    "            obj.readNS()\n",
    "            obj.result = \"\"\n",
    "            obj.wb()\n",
    "\n",
    "            if(obj.k <= obj.n):\n",
    "                obj.flag = False\n",
    "\n",
    "            if(obj.flag == False):\n",
    "                obj.res = \"Error\"\n",
    "            if(obj.flag):\n",
    "                print(\"Result: \")\n",
    "                print(obj.result)\n",
    "            print(obj.res)\n",
    "            print(\"\\n\")\n",
    "        \n",
    "            obj.res = \"OK\"\n",
    "            obj.flag = True\n",
    "            obj.k = 0\n",
    "        \n",
    "    def readNS(obj):\n",
    "        obj.result += obj.ch;\n",
    "        if(obj.k < obj.n+1):\n",
    "            if(obj.k < obj.n):\n",
    "                obj.ch = obj.s[obj.k];\n",
    "        else:\n",
    "            obj.flag = False;\n",
    "\n",
    "        obj.k += 1;\n",
    "        \n",
    "        \n",
    "    def checAlpha(obj):\n",
    "        if((obj.ch <= 'z') and (obj.ch >= 'a')):\n",
    "            obj.readNS()\n",
    "        else:\n",
    "            obj.flag = False\n",
    "            \n",
    "            \n",
    "    def sign(obj):\n",
    "        if((obj.ch == '+') or (obj.ch == '-') or (obj.ch == '*') or (obj.ch == '/')):\n",
    "            obj.readNS()\n",
    "        else:\n",
    "            obj.flag = False\n",
    "            \n",
    "            \n",
    "    def wb(obj):\n",
    "        obj.f()\n",
    "        if(obj.flag):\n",
    "            obj.end2()\n",
    "        \n",
    "        \n",
    "    def end2(obj):\n",
    "        if((obj.ch == '+') or (obj.ch == '-') or (obj.ch == '*') or (obj.ch == '/')):\n",
    "            obj.sign();\n",
    "            obj.wb();\n",
    "            \n",
    "            \n",
    "    def f(obj):\n",
    "        obj.checAlpha()\n",
    "        if(obj.flag):\n",
    "            obj.end1()\n",
    "            \n",
    "            \n",
    "    def end1(obj):\n",
    "        if (obj.ch == '('):\n",
    "            obj.readNS()\n",
    "            obj.wb()\n",
    "            if(obj.ch == ')'):\n",
    "                obj.readNS()\n",
    "            else:\n",
    "                obj.flag = False\n",
    "                \n",
    "                \n",
    "    def outInfo(obj):\n",
    "        print(\"OK - формула верна, Error - формула не верна\");\n",
    "        print(\"Введите свою формулу: \");\n",
    "        \n",
    "        \n",
    "\n",
    "\n",
    "a = formula()\n",
    "a.launch()\n"
   ]
  }
 ],
 "metadata": {
  "kernelspec": {
   "display_name": "Python 3",
   "language": "python",
   "name": "python3"
  },
  "language_info": {
   "codemirror_mode": {
    "name": "ipython",
    "version": 3
   },
   "file_extension": ".py",
   "mimetype": "text/x-python",
   "name": "python",
   "nbconvert_exporter": "python",
   "pygments_lexer": "ipython3",
   "version": "3.8.8"
  }
 },
 "nbformat": 4,
 "nbformat_minor": 5
}
